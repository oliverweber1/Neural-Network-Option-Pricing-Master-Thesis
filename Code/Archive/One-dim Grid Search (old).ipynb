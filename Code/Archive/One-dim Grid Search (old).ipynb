{
 "cells": [
  {
   "cell_type": "code",
   "execution_count": 66,
   "id": "3ca4375a",
   "metadata": {},
   "outputs": [],
   "source": [
    "import matplotlib.pyplot as plt\n",
    "import numpy as np\n",
    "import pandas as pd\n",
    "from sklearn.model_selection import train_test_split, GridSearchCV #, RandomizedSearchCV\n",
    "from tensorflow import keras\n",
    "from tensorflow.random import set_seed\n",
    "from keras.models import Sequential\n",
    "from keras.layers import Dense\n",
    "from keras.wrappers.scikit_learn import KerasRegressor\n",
    "from math import ceil, floor\n",
    "\n",
    "import pickle\n",
    "\n",
    "plt.style.use('seaborn')\n",
    "plt.rc('text', usetex=True)\n",
    "plt.rc('font', family='serif')\n",
    "\n",
    "data_path = 'C:\\\\Users\\\\oli-w\\\\OneDrive\\\\Uni\\\\Master Thesis\\\\Neural-Network-Option-Pricing-Master-Thesis\\\\Code\\\\OptionData\\\\'\n",
    "result_path = 'C:\\\\Users\\\\oli-w\\\\OneDrive\\\\Uni\\\\Master Thesis\\\\Neural-Network-Option-Pricing-Master-Thesis\\\\Code\\\\Results\\\\'\n",
    "plot_path = 'C:\\\\Users\\\\oli-w\\\\OneDrive\\\\Uni\\\\Master Thesis\\\\LaTeX Template\\\\'\n",
    "\n",
    "np.random.seed(seed=123)\n",
    "set_seed(1234)"
   ]
  },
  {
   "cell_type": "markdown",
   "id": "8de92595",
   "metadata": {},
   "source": [
    "# 1 Prepare Data"
   ]
  },
  {
   "cell_type": "code",
   "execution_count": 2,
   "id": "b3d4e233",
   "metadata": {},
   "outputs": [],
   "source": [
    "T = [0.3, 1, 3]"
   ]
  },
  {
   "cell_type": "code",
   "execution_count": 3,
   "id": "06aa82eb",
   "metadata": {},
   "outputs": [],
   "source": [
    "def get_train_test_data(model_name):\n",
    "    df = pd.read_csv(data_path + 'one_dim_{}_prices.csv'.format(model_name))\n",
    "    X = np.array(df['s']).reshape(len(df), 1)\n",
    "    y = np.array(df[['0.3', '1.0', '3.0']])\n",
    "    X_train, X_test, y_train_all, y_test_all = train_test_split(X, y, test_size=0.2)\n",
    "    y_train_dict, y_test_dict = [{0.3: y_arr.T[0], 1: y_arr.T[1], 3: y_arr.T[2]} for y_arr in (y_train_all, y_test_all)]\n",
    "    return X_train, X_test, y_train_dict, y_test_dict"
   ]
  },
  {
   "cell_type": "code",
   "execution_count": 4,
   "id": "ae178317",
   "metadata": {},
   "outputs": [],
   "source": [
    "\"\"\"\n",
    "Merton model data\n",
    "\"\"\"\n",
    "\n",
    "X_train_mert, X_test_mert, y_train_mert, y_test_mert = get_train_test_data('merton')"
   ]
  },
  {
   "cell_type": "code",
   "execution_count": 5,
   "id": "f691128a",
   "metadata": {},
   "outputs": [],
   "source": [
    "\"\"\"\n",
    "NIG model data\n",
    "\"\"\"\n",
    "\n",
    "X_train_nig, X_test_nig, y_train_nig, y_test_nig = get_train_test_data('nig')"
   ]
  },
  {
   "cell_type": "markdown",
   "id": "5fb0f12a",
   "metadata": {},
   "source": [
    "# 2 Train Models"
   ]
  },
  {
   "cell_type": "markdown",
   "id": "0cbef7f8",
   "metadata": {},
   "source": [
    "## 2.1 Helper Functions"
   ]
  },
  {
   "cell_type": "code",
   "execution_count": 7,
   "id": "677e8604",
   "metadata": {},
   "outputs": [],
   "source": [
    "\"\"\"\n",
    "Helper function to create model from given number of weights and hidden layers\n",
    "\"\"\"\n",
    "\n",
    "def create_model(n_weights=1000, hidden_layers=1, learning_rate=0.001):\n",
    "    # formulas derived from nWeights = sum (d(l-1)+1)*d(l) for all layers l with output dim d(l)\n",
    "    \n",
    "    if hidden_layers == 1: # 100% of neurons in first hidden layer\n",
    "        neurons = [ceil((n_weights - 1) / 3)]\n",
    "    elif hidden_layers == 2: # 70% / 30% split of neurons\n",
    "        x = 1/7 * (np.sqrt(21 * n_weights + 79) - 10)\n",
    "        neurons = list(map(floor,[7/3 * x, x]))\n",
    "    elif hidden_layers == 3: # 50% / 30% / 20% split\n",
    "        x = 1/21 * (np.sqrt(84 * n_weights + 205) - 17)\n",
    "        neurons = list(map(floor, [5/2 * x, 3/2 * x, x]))\n",
    "    else:\n",
    "        raise Exception('Only 1, 2 or 3 layers allowed')\n",
    "        \n",
    "    model = Sequential([Dense(neurons[0], activation='relu', input_dim=1)])\n",
    "    for n in neurons[1:]:\n",
    "        model.add(Dense(n, activation='relu'))\n",
    "    model.add(Dense(1))\n",
    "\n",
    "    model.compile(optimizer=keras.optimizers.Adam(learning_rate=learning_rate), loss='mse')\n",
    "\n",
    "    return model\n"
   ]
  },
  {
   "cell_type": "code",
   "execution_count": 70,
   "id": "aa7cc001",
   "metadata": {},
   "outputs": [],
   "source": [
    "def run_grid_search(X_train, y_train):\n",
    "    \"\"\"\n",
    "    Runs grid search for given train and test data\n",
    "    \"\"\"\n",
    "    batch_size = [64, 128]#, 256, 512, 1024]\n",
    "    learning_rate = [0.1]#, 0.01, 0.001, 0.0001]\n",
    "    hidden_layers = [1]#, 2, 3]\n",
    "    n_weights = [10, 30]#, 60, 100, 300, 600, 1000, 3000, 6000, 10000, 30000]\n",
    "    epochs = [10, 30, 100, 300, 1000]\n",
    "\n",
    "    #p_grid = dict(n_weights=n_weights, hidden_layers=hidden_layers, batch_size=batch_size, learning_rate=learning_rate)\n",
    "    p_grid = dict(n_weights=n_weights, hidden_layers=hidden_layers, batch_size=batch_size, \n",
    "                  learning_rate=learning_rate, epochs=epochs)\n",
    "\n",
    "\n",
    "    model = KerasRegressor(create_model, verbose=0)#, epochs=epochs)\n",
    "    grid = GridSearchCV(estimator=model, param_grid=p_grid, n_jobs=-1, cv=4, verbose=1)\n",
    "    grid_result = grid.fit(X_train, y_train, callbacks=[earlyStop])\n",
    "    print('Best: {} using {}'.format(grid_result.best_score_, grid_result.best_params_))\n",
    "    return grid_result"
   ]
  },
  {
   "cell_type": "code",
   "execution_count": 9,
   "id": "5d27c54c",
   "metadata": {},
   "outputs": [],
   "source": [
    "def save_results(grid_result, model_name, maturity):\n",
    "    \"\"\"\n",
    "    Saves model performance for each parameter combination from a grid search\n",
    "    for approximation of option prices from a given pricing model and maturity\n",
    "    \"\"\"\n",
    "    columns = ['mean_fit_time', 'param_batch_size', 'param_hidden_layers', 'param_learning_rate', \n",
    "               'param_n_weights', 'param_epochs', 'mean_test_score', 'rank_test_score']\n",
    "    result_df = pd.DataFrame(grid_result.cv_results_,)[columns]\n",
    "    result_df.columns = ['fit_time', 'batch_size', 'hidden_layers', 'learning_rate', 'n_weights', 'epochs', 'test_score', 'rank']\n",
    "    result_df[['batch_size', 'hidden_layers', 'n_weights']] = result_df[['batch_size', 'hidden_layers', 'n_weights']].astype(int)\n",
    "    result_df['learning_rate'] = result_df['learning_rate'].astype('float')\n",
    "    result_df['test_score'] = -result_df['test_score']\n",
    "    result_df['actual_weights'] = result_df[['hidden_layers', 'n_weights']].apply(lambda x: create_model(x[1], x[0]).count_params(), axis=1)\n",
    "    result_df.to_csv(result_path + 'one_dim_{}_{}_grid_search_all_results.csv'.format(model_name, maturity), index=False)\n",
    "    return result_df"
   ]
  },
  {
   "cell_type": "code",
   "execution_count": 10,
   "id": "452e1e81",
   "metadata": {},
   "outputs": [],
   "source": [
    "def save_best_result_overview(result_df, X_train, y_train, X_test, y_test, model_name, maturity):\n",
    "    \"\"\"\n",
    "    Groups all results by number of weights to find parameters of best performing model for each network size\n",
    "    and trains + tests neural net for each size with best parameters\n",
    "    \"\"\"\n",
    "    idx = result_df.groupby(['n_weights'])['test_score'].transform(min) == result_df['test_score']\n",
    "    overview = result_df[idx].sort_values('n_weights')\n",
    "    overview = overview.drop(['actual_weights', 'rank'], axis=1)\n",
    "    overview = overview[['n_weights', 'hidden_layers', 'test_score', 'learning_rate', 'batch_size', 'epochs', 'fit_time']]\n",
    "    overview.columns = ['Weights', 'Hidden Layers', 'Validation MSE', 'Learning Rate', 'Batch Size', 'Epochs (CV)', 'Training Time (s)']\n",
    "    overview['Validation MSE'] = overview['Validation MSE'].apply(lambda x: '{:.2e}'.format(x))\n",
    "    overview['Learning Rate'] = overview['Learning Rate'].apply(lambda x: '{:g}'.format(x))\n",
    "    overview['Training Time (s)'] = overview['Training Time (s)'].apply(lambda x: '{:.2f}'.format(x))\n",
    "    test_mse = []\n",
    "    train_epochs = []\n",
    "    earlyStop = keras.callbacks.EarlyStopping(monitor='loss', patience=3, restore_best_weights=True)    \n",
    "    for weights, hidden, lr, batch in zip(overview['Weights'], overview['Hidden Layers'], \n",
    "                                          overview['Learning Rate'], overview['Batch Size']):\n",
    "        model = create_model(weights, hidden, float(lr))\n",
    "        hist = model.fit(X_train, y_train, epochs=5000, batch_size=batch, verbose=0, callbacks=[earlyStop])\n",
    "        test_mse.append(model.evaluate(X_test, y_test))\n",
    "        train_epochs.append(hist.epoch[-1])\n",
    "    overview['Test MSE'] = test_mse\n",
    "    overview['Epochs'] = train_epochs\n",
    "    overview['Test MSE'] = overview['Test MSE'].apply(lambda x: '{:.2e}'.format(x))\n",
    "    overview.to_csv(result_path + 'one_dim_{}_{}_overview.csv'.format(model_name, maturity), index=False)\n",
    "    return overview"
   ]
  },
  {
   "cell_type": "markdown",
   "id": "c7597c91",
   "metadata": {},
   "source": [
    "## 2.2 Merton Prices"
   ]
  },
  {
   "cell_type": "code",
   "execution_count": 71,
   "id": "3cf0dc7b",
   "metadata": {},
   "outputs": [
    {
     "name": "stdout",
     "output_type": "stream",
     "text": [
      "Fitting 4 folds for each of 4 candidates, totalling 16 fits\n",
      "Best: -0.00010234642650175374 using {'batch_size': 64, 'hidden_layers': 1, 'learning_rate': 0.1, 'n_weights': 30}\n",
      "Fitting 4 folds for each of 4 candidates, totalling 16 fits\n"
     ]
    },
    {
     "ename": "PicklingError",
     "evalue": "Could not pickle the task to send it to the workers.",
     "output_type": "error",
     "traceback": [
      "\u001b[1;31m---------------------------------------------------------------------------\u001b[0m",
      "\u001b[1;31m_RemoteTraceback\u001b[0m                          Traceback (most recent call last)",
      "\u001b[1;31m_RemoteTraceback\u001b[0m: \n\"\"\"\nTraceback (most recent call last):\n  File \"C:\\Users\\oli-w\\anaconda3\\envs\\tensorflow\\lib\\site-packages\\joblib\\externals\\loky\\backend\\queues.py\", line 153, in _feed\n    obj_ = dumps(obj, reducers=reducers)\n  File \"C:\\Users\\oli-w\\anaconda3\\envs\\tensorflow\\lib\\site-packages\\joblib\\externals\\loky\\backend\\reduction.py\", line 271, in dumps\n    dump(obj, buf, reducers=reducers, protocol=protocol)\n  File \"C:\\Users\\oli-w\\anaconda3\\envs\\tensorflow\\lib\\site-packages\\joblib\\externals\\loky\\backend\\reduction.py\", line 264, in dump\n    _LokyPickler(file, reducers=reducers, protocol=protocol).dump(obj)\n  File \"C:\\Users\\oli-w\\anaconda3\\envs\\tensorflow\\lib\\site-packages\\joblib\\externals\\cloudpickle\\cloudpickle_fast.py\", line 602, in dump\n    return Pickler.dump(self, obj)\nTypeError: cannot pickle '_thread.RLock' object\n\"\"\"",
      "\nThe above exception was the direct cause of the following exception:\n",
      "\u001b[1;31mPicklingError\u001b[0m                             Traceback (most recent call last)",
      "\u001b[1;32m~\\AppData\\Local\\Temp/ipykernel_16120/3821302767.py\u001b[0m in \u001b[0;36m<module>\u001b[1;34m\u001b[0m\n\u001b[0;32m      1\u001b[0m \u001b[0mgrid_result\u001b[0m \u001b[1;33m=\u001b[0m \u001b[1;33m{\u001b[0m\u001b[1;33m}\u001b[0m\u001b[1;33m\u001b[0m\u001b[1;33m\u001b[0m\u001b[0m\n\u001b[0;32m      2\u001b[0m \u001b[1;32mfor\u001b[0m \u001b[0mt\u001b[0m \u001b[1;32min\u001b[0m \u001b[0mT\u001b[0m\u001b[1;33m:\u001b[0m\u001b[1;33m\u001b[0m\u001b[1;33m\u001b[0m\u001b[0m\n\u001b[1;32m----> 3\u001b[1;33m     \u001b[0mgrid_result\u001b[0m\u001b[1;33m[\u001b[0m\u001b[0mt\u001b[0m\u001b[1;33m]\u001b[0m \u001b[1;33m=\u001b[0m \u001b[0mrun_grid_search\u001b[0m\u001b[1;33m(\u001b[0m\u001b[0mX_train_mert\u001b[0m\u001b[1;33m,\u001b[0m \u001b[0my_train_mert\u001b[0m\u001b[1;33m[\u001b[0m\u001b[0mt\u001b[0m\u001b[1;33m]\u001b[0m\u001b[1;33m)\u001b[0m\u001b[1;33m\u001b[0m\u001b[1;33m\u001b[0m\u001b[0m\n\u001b[0m",
      "\u001b[1;32m~\\AppData\\Local\\Temp/ipykernel_16120/3905417826.py\u001b[0m in \u001b[0;36mrun_grid_search\u001b[1;34m(X_train, y_train)\u001b[0m\n\u001b[0;32m     16\u001b[0m     \u001b[0mmodel\u001b[0m \u001b[1;33m=\u001b[0m \u001b[0mKerasRegressor\u001b[0m\u001b[1;33m(\u001b[0m\u001b[0mcreate_model\u001b[0m\u001b[1;33m,\u001b[0m \u001b[0mverbose\u001b[0m\u001b[1;33m=\u001b[0m\u001b[1;36m0\u001b[0m\u001b[1;33m)\u001b[0m\u001b[1;31m#, epochs=epochs)\u001b[0m\u001b[1;33m\u001b[0m\u001b[1;33m\u001b[0m\u001b[0m\n\u001b[0;32m     17\u001b[0m     \u001b[0mgrid\u001b[0m \u001b[1;33m=\u001b[0m \u001b[0mGridSearchCV\u001b[0m\u001b[1;33m(\u001b[0m\u001b[0mestimator\u001b[0m\u001b[1;33m=\u001b[0m\u001b[0mmodel\u001b[0m\u001b[1;33m,\u001b[0m \u001b[0mparam_grid\u001b[0m\u001b[1;33m=\u001b[0m\u001b[0mp_grid\u001b[0m\u001b[1;33m,\u001b[0m \u001b[0mn_jobs\u001b[0m\u001b[1;33m=\u001b[0m\u001b[1;33m-\u001b[0m\u001b[1;36m1\u001b[0m\u001b[1;33m,\u001b[0m \u001b[0mcv\u001b[0m\u001b[1;33m=\u001b[0m\u001b[1;36m4\u001b[0m\u001b[1;33m,\u001b[0m \u001b[0mverbose\u001b[0m\u001b[1;33m=\u001b[0m\u001b[1;36m1\u001b[0m\u001b[1;33m)\u001b[0m\u001b[1;33m\u001b[0m\u001b[1;33m\u001b[0m\u001b[0m\n\u001b[1;32m---> 18\u001b[1;33m     \u001b[0mgrid_result\u001b[0m \u001b[1;33m=\u001b[0m \u001b[0mgrid\u001b[0m\u001b[1;33m.\u001b[0m\u001b[0mfit\u001b[0m\u001b[1;33m(\u001b[0m\u001b[0mX_train\u001b[0m\u001b[1;33m,\u001b[0m \u001b[0my_train\u001b[0m\u001b[1;33m,\u001b[0m \u001b[0mcallbacks\u001b[0m\u001b[1;33m=\u001b[0m\u001b[1;33m[\u001b[0m\u001b[0mearlyStop\u001b[0m\u001b[1;33m]\u001b[0m\u001b[1;33m)\u001b[0m\u001b[1;33m\u001b[0m\u001b[1;33m\u001b[0m\u001b[0m\n\u001b[0m\u001b[0;32m     19\u001b[0m     \u001b[0mprint\u001b[0m\u001b[1;33m(\u001b[0m\u001b[1;34m'Best: {} using {}'\u001b[0m\u001b[1;33m.\u001b[0m\u001b[0mformat\u001b[0m\u001b[1;33m(\u001b[0m\u001b[0mgrid_result\u001b[0m\u001b[1;33m.\u001b[0m\u001b[0mbest_score_\u001b[0m\u001b[1;33m,\u001b[0m \u001b[0mgrid_result\u001b[0m\u001b[1;33m.\u001b[0m\u001b[0mbest_params_\u001b[0m\u001b[1;33m)\u001b[0m\u001b[1;33m)\u001b[0m\u001b[1;33m\u001b[0m\u001b[1;33m\u001b[0m\u001b[0m\n\u001b[0;32m     20\u001b[0m     \u001b[1;32mreturn\u001b[0m \u001b[0mgrid_result\u001b[0m\u001b[1;33m\u001b[0m\u001b[1;33m\u001b[0m\u001b[0m\n",
      "\u001b[1;32m~\\anaconda3\\envs\\tensorflow\\lib\\site-packages\\sklearn\\model_selection\\_search.py\u001b[0m in \u001b[0;36mfit\u001b[1;34m(self, X, y, groups, **fit_params)\u001b[0m\n\u001b[0;32m    889\u001b[0m                 \u001b[1;32mreturn\u001b[0m \u001b[0mresults\u001b[0m\u001b[1;33m\u001b[0m\u001b[1;33m\u001b[0m\u001b[0m\n\u001b[0;32m    890\u001b[0m \u001b[1;33m\u001b[0m\u001b[0m\n\u001b[1;32m--> 891\u001b[1;33m             \u001b[0mself\u001b[0m\u001b[1;33m.\u001b[0m\u001b[0m_run_search\u001b[0m\u001b[1;33m(\u001b[0m\u001b[0mevaluate_candidates\u001b[0m\u001b[1;33m)\u001b[0m\u001b[1;33m\u001b[0m\u001b[1;33m\u001b[0m\u001b[0m\n\u001b[0m\u001b[0;32m    892\u001b[0m \u001b[1;33m\u001b[0m\u001b[0m\n\u001b[0;32m    893\u001b[0m             \u001b[1;31m# multimetric is determined here because in the case of a callable\u001b[0m\u001b[1;33m\u001b[0m\u001b[1;33m\u001b[0m\u001b[1;33m\u001b[0m\u001b[0m\n",
      "\u001b[1;32m~\\anaconda3\\envs\\tensorflow\\lib\\site-packages\\sklearn\\model_selection\\_search.py\u001b[0m in \u001b[0;36m_run_search\u001b[1;34m(self, evaluate_candidates)\u001b[0m\n\u001b[0;32m   1390\u001b[0m     \u001b[1;32mdef\u001b[0m \u001b[0m_run_search\u001b[0m\u001b[1;33m(\u001b[0m\u001b[0mself\u001b[0m\u001b[1;33m,\u001b[0m \u001b[0mevaluate_candidates\u001b[0m\u001b[1;33m)\u001b[0m\u001b[1;33m:\u001b[0m\u001b[1;33m\u001b[0m\u001b[1;33m\u001b[0m\u001b[0m\n\u001b[0;32m   1391\u001b[0m         \u001b[1;34m\"\"\"Search all candidates in param_grid\"\"\"\u001b[0m\u001b[1;33m\u001b[0m\u001b[1;33m\u001b[0m\u001b[0m\n\u001b[1;32m-> 1392\u001b[1;33m         \u001b[0mevaluate_candidates\u001b[0m\u001b[1;33m(\u001b[0m\u001b[0mParameterGrid\u001b[0m\u001b[1;33m(\u001b[0m\u001b[0mself\u001b[0m\u001b[1;33m.\u001b[0m\u001b[0mparam_grid\u001b[0m\u001b[1;33m)\u001b[0m\u001b[1;33m)\u001b[0m\u001b[1;33m\u001b[0m\u001b[1;33m\u001b[0m\u001b[0m\n\u001b[0m\u001b[0;32m   1393\u001b[0m \u001b[1;33m\u001b[0m\u001b[0m\n\u001b[0;32m   1394\u001b[0m \u001b[1;33m\u001b[0m\u001b[0m\n",
      "\u001b[1;32m~\\anaconda3\\envs\\tensorflow\\lib\\site-packages\\sklearn\\model_selection\\_search.py\u001b[0m in \u001b[0;36mevaluate_candidates\u001b[1;34m(candidate_params, cv, more_results)\u001b[0m\n\u001b[0;32m    836\u001b[0m                     )\n\u001b[0;32m    837\u001b[0m \u001b[1;33m\u001b[0m\u001b[0m\n\u001b[1;32m--> 838\u001b[1;33m                 out = parallel(\n\u001b[0m\u001b[0;32m    839\u001b[0m                     delayed(_fit_and_score)(\n\u001b[0;32m    840\u001b[0m                         \u001b[0mclone\u001b[0m\u001b[1;33m(\u001b[0m\u001b[0mbase_estimator\u001b[0m\u001b[1;33m)\u001b[0m\u001b[1;33m,\u001b[0m\u001b[1;33m\u001b[0m\u001b[1;33m\u001b[0m\u001b[0m\n",
      "\u001b[1;32m~\\anaconda3\\envs\\tensorflow\\lib\\site-packages\\joblib\\parallel.py\u001b[0m in \u001b[0;36m__call__\u001b[1;34m(self, iterable)\u001b[0m\n\u001b[0;32m   1054\u001b[0m \u001b[1;33m\u001b[0m\u001b[0m\n\u001b[0;32m   1055\u001b[0m             \u001b[1;32mwith\u001b[0m \u001b[0mself\u001b[0m\u001b[1;33m.\u001b[0m\u001b[0m_backend\u001b[0m\u001b[1;33m.\u001b[0m\u001b[0mretrieval_context\u001b[0m\u001b[1;33m(\u001b[0m\u001b[1;33m)\u001b[0m\u001b[1;33m:\u001b[0m\u001b[1;33m\u001b[0m\u001b[1;33m\u001b[0m\u001b[0m\n\u001b[1;32m-> 1056\u001b[1;33m                 \u001b[0mself\u001b[0m\u001b[1;33m.\u001b[0m\u001b[0mretrieve\u001b[0m\u001b[1;33m(\u001b[0m\u001b[1;33m)\u001b[0m\u001b[1;33m\u001b[0m\u001b[1;33m\u001b[0m\u001b[0m\n\u001b[0m\u001b[0;32m   1057\u001b[0m             \u001b[1;31m# Make sure that we get a last message telling us we are done\u001b[0m\u001b[1;33m\u001b[0m\u001b[1;33m\u001b[0m\u001b[1;33m\u001b[0m\u001b[0m\n\u001b[0;32m   1058\u001b[0m             \u001b[0melapsed_time\u001b[0m \u001b[1;33m=\u001b[0m \u001b[0mtime\u001b[0m\u001b[1;33m.\u001b[0m\u001b[0mtime\u001b[0m\u001b[1;33m(\u001b[0m\u001b[1;33m)\u001b[0m \u001b[1;33m-\u001b[0m \u001b[0mself\u001b[0m\u001b[1;33m.\u001b[0m\u001b[0m_start_time\u001b[0m\u001b[1;33m\u001b[0m\u001b[1;33m\u001b[0m\u001b[0m\n",
      "\u001b[1;32m~\\anaconda3\\envs\\tensorflow\\lib\\site-packages\\joblib\\parallel.py\u001b[0m in \u001b[0;36mretrieve\u001b[1;34m(self)\u001b[0m\n\u001b[0;32m    933\u001b[0m             \u001b[1;32mtry\u001b[0m\u001b[1;33m:\u001b[0m\u001b[1;33m\u001b[0m\u001b[1;33m\u001b[0m\u001b[0m\n\u001b[0;32m    934\u001b[0m                 \u001b[1;32mif\u001b[0m \u001b[0mgetattr\u001b[0m\u001b[1;33m(\u001b[0m\u001b[0mself\u001b[0m\u001b[1;33m.\u001b[0m\u001b[0m_backend\u001b[0m\u001b[1;33m,\u001b[0m \u001b[1;34m'supports_timeout'\u001b[0m\u001b[1;33m,\u001b[0m \u001b[1;32mFalse\u001b[0m\u001b[1;33m)\u001b[0m\u001b[1;33m:\u001b[0m\u001b[1;33m\u001b[0m\u001b[1;33m\u001b[0m\u001b[0m\n\u001b[1;32m--> 935\u001b[1;33m                     \u001b[0mself\u001b[0m\u001b[1;33m.\u001b[0m\u001b[0m_output\u001b[0m\u001b[1;33m.\u001b[0m\u001b[0mextend\u001b[0m\u001b[1;33m(\u001b[0m\u001b[0mjob\u001b[0m\u001b[1;33m.\u001b[0m\u001b[0mget\u001b[0m\u001b[1;33m(\u001b[0m\u001b[0mtimeout\u001b[0m\u001b[1;33m=\u001b[0m\u001b[0mself\u001b[0m\u001b[1;33m.\u001b[0m\u001b[0mtimeout\u001b[0m\u001b[1;33m)\u001b[0m\u001b[1;33m)\u001b[0m\u001b[1;33m\u001b[0m\u001b[1;33m\u001b[0m\u001b[0m\n\u001b[0m\u001b[0;32m    936\u001b[0m                 \u001b[1;32melse\u001b[0m\u001b[1;33m:\u001b[0m\u001b[1;33m\u001b[0m\u001b[1;33m\u001b[0m\u001b[0m\n\u001b[0;32m    937\u001b[0m                     \u001b[0mself\u001b[0m\u001b[1;33m.\u001b[0m\u001b[0m_output\u001b[0m\u001b[1;33m.\u001b[0m\u001b[0mextend\u001b[0m\u001b[1;33m(\u001b[0m\u001b[0mjob\u001b[0m\u001b[1;33m.\u001b[0m\u001b[0mget\u001b[0m\u001b[1;33m(\u001b[0m\u001b[1;33m)\u001b[0m\u001b[1;33m)\u001b[0m\u001b[1;33m\u001b[0m\u001b[1;33m\u001b[0m\u001b[0m\n",
      "\u001b[1;32m~\\anaconda3\\envs\\tensorflow\\lib\\site-packages\\joblib\\_parallel_backends.py\u001b[0m in \u001b[0;36mwrap_future_result\u001b[1;34m(future, timeout)\u001b[0m\n\u001b[0;32m    540\u001b[0m         AsyncResults.get from multiprocessing.\"\"\"\n\u001b[0;32m    541\u001b[0m         \u001b[1;32mtry\u001b[0m\u001b[1;33m:\u001b[0m\u001b[1;33m\u001b[0m\u001b[1;33m\u001b[0m\u001b[0m\n\u001b[1;32m--> 542\u001b[1;33m             \u001b[1;32mreturn\u001b[0m \u001b[0mfuture\u001b[0m\u001b[1;33m.\u001b[0m\u001b[0mresult\u001b[0m\u001b[1;33m(\u001b[0m\u001b[0mtimeout\u001b[0m\u001b[1;33m=\u001b[0m\u001b[0mtimeout\u001b[0m\u001b[1;33m)\u001b[0m\u001b[1;33m\u001b[0m\u001b[1;33m\u001b[0m\u001b[0m\n\u001b[0m\u001b[0;32m    543\u001b[0m         \u001b[1;32mexcept\u001b[0m \u001b[0mCfTimeoutError\u001b[0m \u001b[1;32mas\u001b[0m \u001b[0me\u001b[0m\u001b[1;33m:\u001b[0m\u001b[1;33m\u001b[0m\u001b[1;33m\u001b[0m\u001b[0m\n\u001b[0;32m    544\u001b[0m             \u001b[1;32mraise\u001b[0m \u001b[0mTimeoutError\u001b[0m \u001b[1;32mfrom\u001b[0m \u001b[0me\u001b[0m\u001b[1;33m\u001b[0m\u001b[1;33m\u001b[0m\u001b[0m\n",
      "\u001b[1;32m~\\anaconda3\\envs\\tensorflow\\lib\\concurrent\\futures\\_base.py\u001b[0m in \u001b[0;36mresult\u001b[1;34m(self, timeout)\u001b[0m\n\u001b[0;32m    437\u001b[0m                 \u001b[1;32mraise\u001b[0m \u001b[0mCancelledError\u001b[0m\u001b[1;33m(\u001b[0m\u001b[1;33m)\u001b[0m\u001b[1;33m\u001b[0m\u001b[1;33m\u001b[0m\u001b[0m\n\u001b[0;32m    438\u001b[0m             \u001b[1;32melif\u001b[0m \u001b[0mself\u001b[0m\u001b[1;33m.\u001b[0m\u001b[0m_state\u001b[0m \u001b[1;33m==\u001b[0m \u001b[0mFINISHED\u001b[0m\u001b[1;33m:\u001b[0m\u001b[1;33m\u001b[0m\u001b[1;33m\u001b[0m\u001b[0m\n\u001b[1;32m--> 439\u001b[1;33m                 \u001b[1;32mreturn\u001b[0m \u001b[0mself\u001b[0m\u001b[1;33m.\u001b[0m\u001b[0m__get_result\u001b[0m\u001b[1;33m(\u001b[0m\u001b[1;33m)\u001b[0m\u001b[1;33m\u001b[0m\u001b[1;33m\u001b[0m\u001b[0m\n\u001b[0m\u001b[0;32m    440\u001b[0m             \u001b[1;32melse\u001b[0m\u001b[1;33m:\u001b[0m\u001b[1;33m\u001b[0m\u001b[1;33m\u001b[0m\u001b[0m\n\u001b[0;32m    441\u001b[0m                 \u001b[1;32mraise\u001b[0m \u001b[0mTimeoutError\u001b[0m\u001b[1;33m(\u001b[0m\u001b[1;33m)\u001b[0m\u001b[1;33m\u001b[0m\u001b[1;33m\u001b[0m\u001b[0m\n",
      "\u001b[1;32m~\\anaconda3\\envs\\tensorflow\\lib\\concurrent\\futures\\_base.py\u001b[0m in \u001b[0;36m__get_result\u001b[1;34m(self)\u001b[0m\n\u001b[0;32m    386\u001b[0m     \u001b[1;32mdef\u001b[0m \u001b[0m__get_result\u001b[0m\u001b[1;33m(\u001b[0m\u001b[0mself\u001b[0m\u001b[1;33m)\u001b[0m\u001b[1;33m:\u001b[0m\u001b[1;33m\u001b[0m\u001b[1;33m\u001b[0m\u001b[0m\n\u001b[0;32m    387\u001b[0m         \u001b[1;32mif\u001b[0m \u001b[0mself\u001b[0m\u001b[1;33m.\u001b[0m\u001b[0m_exception\u001b[0m\u001b[1;33m:\u001b[0m\u001b[1;33m\u001b[0m\u001b[1;33m\u001b[0m\u001b[0m\n\u001b[1;32m--> 388\u001b[1;33m             \u001b[1;32mraise\u001b[0m \u001b[0mself\u001b[0m\u001b[1;33m.\u001b[0m\u001b[0m_exception\u001b[0m\u001b[1;33m\u001b[0m\u001b[1;33m\u001b[0m\u001b[0m\n\u001b[0m\u001b[0;32m    389\u001b[0m         \u001b[1;32melse\u001b[0m\u001b[1;33m:\u001b[0m\u001b[1;33m\u001b[0m\u001b[1;33m\u001b[0m\u001b[0m\n\u001b[0;32m    390\u001b[0m             \u001b[1;32mreturn\u001b[0m \u001b[0mself\u001b[0m\u001b[1;33m.\u001b[0m\u001b[0m_result\u001b[0m\u001b[1;33m\u001b[0m\u001b[1;33m\u001b[0m\u001b[0m\n",
      "\u001b[1;31mPicklingError\u001b[0m: Could not pickle the task to send it to the workers."
     ]
    }
   ],
   "source": [
    "grid_result = {}\n",
    "for t in T:\n",
    "    grid_result[t] = run_grid_search(X_train_mert, y_train_mert[t])"
   ]
  },
  {
   "cell_type": "code",
   "execution_count": null,
   "id": "85ce86c6",
   "metadata": {},
   "outputs": [],
   "source": [
    "all_results = {}\n",
    "for t in T:\n",
    "    all_results[t] = save_results(grid_result[t], 'merton', t)"
   ]
  },
  {
   "cell_type": "code",
   "execution_count": null,
   "id": "35eb2474",
   "metadata": {},
   "outputs": [],
   "source": [
    "overview = {}\n",
    "for t in T:\n",
    "    overview[t] = save_best_result_overview(all_results[t], X_train_mert, y_train_mert[t], X_test_mert, y_test_mert[t],\n",
    "                                            'merton', t)\n",
    "    print(overview[t].to_latex(index=False))\n",
    "    print('\\n')"
   ]
  },
  {
   "cell_type": "code",
   "execution_count": null,
   "id": "77bba2ca",
   "metadata": {},
   "outputs": [],
   "source": [
    "for t in T:\n",
    "    print('T = {}'.format(t))\n",
    "    display(overview[t])"
   ]
  },
  {
   "cell_type": "code",
   "execution_count": 87,
   "id": "8378bc06",
   "metadata": {},
   "outputs": [],
   "source": [
    "earlyStop = keras.callbacks.EarlyStopping(monitor='loss', patience=5, restore_best_weights=True)  "
   ]
  },
  {
   "cell_type": "code",
   "execution_count": 155,
   "id": "23991c63",
   "metadata": {},
   "outputs": [
    {
     "name": "stdout",
     "output_type": "stream",
     "text": [
      "Epoch 1/5000\n",
      "63/63 [==============================] - 0s 6ms/step - loss: 0.0189\n",
      "Epoch 2/5000\n",
      "63/63 [==============================] - 0s 6ms/step - loss: 0.0046\n",
      "Epoch 3/5000\n",
      "63/63 [==============================] - 0s 6ms/step - loss: 0.0030\n",
      "Epoch 4/5000\n",
      "63/63 [==============================] - 0s 6ms/step - loss: 0.0023\n",
      "Epoch 5/5000\n",
      "63/63 [==============================] - 0s 5ms/step - loss: 0.0017\n",
      "Epoch 6/5000\n",
      "63/63 [==============================] - 0s 6ms/step - loss: 0.0013\n",
      "Epoch 7/5000\n",
      "63/63 [==============================] - 0s 6ms/step - loss: 8.6153e-04\n",
      "Epoch 8/5000\n",
      "63/63 [==============================] - 0s 6ms/step - loss: 5.5981e-04\n",
      "Epoch 9/5000\n",
      "63/63 [==============================] - 0s 6ms/step - loss: 3.5982e-04\n",
      "Epoch 10/5000\n",
      "63/63 [==============================] - 0s 6ms/step - loss: 2.4724e-04\n",
      "Epoch 11/5000\n",
      "63/63 [==============================] - 0s 6ms/step - loss: 1.7845e-04\n",
      "Epoch 12/5000\n",
      "63/63 [==============================] - 0s 6ms/step - loss: 1.3025e-04\n",
      "Epoch 13/5000\n",
      "63/63 [==============================] - 0s 6ms/step - loss: 9.3466e-05\n",
      "Epoch 14/5000\n",
      "63/63 [==============================] - 0s 6ms/step - loss: 6.8736e-05\n",
      "Epoch 15/5000\n",
      "63/63 [==============================] - 0s 6ms/step - loss: 5.0263e-05\n",
      "Epoch 16/5000\n",
      "63/63 [==============================] - 0s 6ms/step - loss: 3.7508e-05\n",
      "Epoch 17/5000\n",
      "63/63 [==============================] - 0s 6ms/step - loss: 2.8483e-05\n",
      "Epoch 18/5000\n",
      "63/63 [==============================] - 0s 6ms/step - loss: 2.2338e-05\n",
      "Epoch 19/5000\n",
      "63/63 [==============================] - 0s 6ms/step - loss: 1.7320e-05\n",
      "Epoch 20/5000\n",
      "63/63 [==============================] - 0s 6ms/step - loss: 1.3335e-05\n",
      "Epoch 21/5000\n",
      "63/63 [==============================] - 0s 6ms/step - loss: 1.0594e-05\n",
      "Epoch 22/5000\n",
      "63/63 [==============================] - 0s 6ms/step - loss: 8.7515e-06\n",
      "Epoch 23/5000\n",
      "63/63 [==============================] - 0s 6ms/step - loss: 6.9425e-06\n",
      "Epoch 24/5000\n",
      "63/63 [==============================] - 0s 6ms/step - loss: 5.6913e-06\n",
      "Epoch 25/5000\n",
      "63/63 [==============================] - 0s 6ms/step - loss: 4.7453e-06\n",
      "Epoch 26/5000\n",
      "63/63 [==============================] - 0s 6ms/step - loss: 4.0639e-06\n",
      "Epoch 27/5000\n",
      "63/63 [==============================] - 0s 6ms/step - loss: 3.2378e-06\n",
      "Epoch 28/5000\n",
      "63/63 [==============================] - 0s 6ms/step - loss: 2.7148e-06\n",
      "Epoch 29/5000\n",
      "63/63 [==============================] - 0s 6ms/step - loss: 2.3281e-06\n",
      "Epoch 30/5000\n",
      "63/63 [==============================] - 0s 6ms/step - loss: 1.9600e-06\n",
      "Epoch 31/5000\n",
      "63/63 [==============================] - 0s 6ms/step - loss: 1.6857e-06\n",
      "Epoch 32/5000\n",
      "63/63 [==============================] - 0s 6ms/step - loss: 1.4657e-06\n",
      "Epoch 33/5000\n",
      "63/63 [==============================] - 0s 6ms/step - loss: 1.2561e-06\n",
      "Epoch 34/5000\n",
      "63/63 [==============================] - 0s 5ms/step - loss: 1.0660e-06\n",
      "Epoch 35/5000\n",
      "63/63 [==============================] - 0s 6ms/step - loss: 9.2165e-07\n",
      "Epoch 36/5000\n",
      "63/63 [==============================] - 0s 6ms/step - loss: 8.1647e-07\n",
      "Epoch 37/5000\n",
      "63/63 [==============================] - 0s 6ms/step - loss: 7.5825e-07\n",
      "Epoch 38/5000\n",
      "63/63 [==============================] - 0s 6ms/step - loss: 6.3477e-07\n",
      "Epoch 39/5000\n",
      "63/63 [==============================] - 0s 6ms/step - loss: 5.6024e-07\n",
      "Epoch 40/5000\n",
      "63/63 [==============================] - 0s 6ms/step - loss: 4.8926e-07\n",
      "Epoch 41/5000\n",
      "63/63 [==============================] - 0s 6ms/step - loss: 4.4517e-07\n",
      "Epoch 42/5000\n",
      "63/63 [==============================] - 0s 6ms/step - loss: 3.9537e-07\n",
      "Epoch 43/5000\n",
      "63/63 [==============================] - 0s 6ms/step - loss: 3.5041e-07\n",
      "Epoch 44/5000\n",
      "63/63 [==============================] - 0s 6ms/step - loss: 3.3435e-07\n",
      "Epoch 45/5000\n",
      "63/63 [==============================] - 0s 6ms/step - loss: 2.7945e-07\n",
      "Epoch 46/5000\n",
      "63/63 [==============================] - 0s 6ms/step - loss: 2.7157e-07\n",
      "Epoch 47/5000\n",
      "63/63 [==============================] - 0s 6ms/step - loss: 2.1993e-07\n",
      "Epoch 48/5000\n",
      "63/63 [==============================] - 0s 6ms/step - loss: 2.0410e-07\n",
      "Epoch 49/5000\n",
      "63/63 [==============================] - 0s 6ms/step - loss: 1.8464e-07\n",
      "Epoch 50/5000\n",
      "63/63 [==============================] - 0s 6ms/step - loss: 1.6951e-07\n",
      "Epoch 51/5000\n",
      "63/63 [==============================] - 0s 7ms/step - loss: 1.5305e-07\n",
      "Epoch 52/5000\n",
      "63/63 [==============================] - 0s 6ms/step - loss: 1.3577e-07\n",
      "Epoch 53/5000\n",
      "63/63 [==============================] - 0s 6ms/step - loss: 1.4401e-07\n",
      "Epoch 54/5000\n",
      "63/63 [==============================] - 0s 6ms/step - loss: 1.0704e-07\n",
      "Epoch 55/5000\n",
      "63/63 [==============================] - 0s 7ms/step - loss: 1.0438e-07\n",
      "Epoch 56/5000\n",
      "63/63 [==============================] - 0s 7ms/step - loss: 9.2691e-08\n",
      "Epoch 57/5000\n",
      "63/63 [==============================] - 0s 6ms/step - loss: 8.1247e-08\n",
      "Epoch 58/5000\n",
      "63/63 [==============================] - 0s 6ms/step - loss: 8.0487e-08\n",
      "Epoch 59/5000\n",
      "63/63 [==============================] - 0s 6ms/step - loss: 7.2548e-08\n",
      "Epoch 60/5000\n",
      "63/63 [==============================] - 0s 6ms/step - loss: 6.9904e-08\n",
      "Epoch 61/5000\n",
      "63/63 [==============================] - 0s 6ms/step - loss: 6.6095e-08\n",
      "Epoch 62/5000\n",
      "63/63 [==============================] - 0s 6ms/step - loss: 5.9212e-08\n",
      "Epoch 63/5000\n",
      "63/63 [==============================] - 0s 6ms/step - loss: 4.8503e-08\n",
      "Epoch 64/5000\n",
      "63/63 [==============================] - 0s 6ms/step - loss: 4.5628e-08\n",
      "Epoch 65/5000\n",
      "63/63 [==============================] - 0s 6ms/step - loss: 4.8805e-08\n",
      "Epoch 66/5000\n",
      "63/63 [==============================] - 0s 6ms/step - loss: 4.2573e-08\n",
      "Epoch 67/5000\n",
      "63/63 [==============================] - 0s 6ms/step - loss: 4.5098e-08\n",
      "Epoch 68/5000\n",
      "63/63 [==============================] - 0s 6ms/step - loss: 4.4079e-08\n",
      "Epoch 69/5000\n",
      "63/63 [==============================] - 0s 6ms/step - loss: 3.5398e-08\n",
      "Epoch 70/5000\n",
      "63/63 [==============================] - 0s 6ms/step - loss: 4.5799e-08\n",
      "Epoch 71/5000\n",
      "63/63 [==============================] - 0s 6ms/step - loss: 3.0533e-08\n",
      "Epoch 72/5000\n",
      "63/63 [==============================] - 0s 6ms/step - loss: 2.4644e-08\n",
      "Epoch 73/5000\n",
      "63/63 [==============================] - 0s 6ms/step - loss: 2.2484e-08\n",
      "Epoch 74/5000\n",
      "63/63 [==============================] - 0s 6ms/step - loss: 2.1120e-08\n",
      "Epoch 75/5000\n",
      "63/63 [==============================] - 0s 6ms/step - loss: 2.9615e-08\n",
      "Epoch 76/5000\n",
      "63/63 [==============================] - 0s 6ms/step - loss: 1.8559e-08\n",
      "Epoch 77/5000\n",
      "63/63 [==============================] - 0s 6ms/step - loss: 1.8357e-08\n",
      "Epoch 78/5000\n",
      "63/63 [==============================] - 0s 6ms/step - loss: 2.0188e-08\n",
      "Epoch 79/5000\n",
      "63/63 [==============================] - 0s 6ms/step - loss: 1.8972e-08\n",
      "Epoch 80/5000\n",
      "63/63 [==============================] - 0s 6ms/step - loss: 1.5028e-08\n",
      "Epoch 81/5000\n",
      "63/63 [==============================] - 0s 6ms/step - loss: 1.3353e-08\n",
      "Epoch 82/5000\n",
      "63/63 [==============================] - 0s 6ms/step - loss: 1.4949e-08\n",
      "Epoch 83/5000\n",
      "63/63 [==============================] - 0s 6ms/step - loss: 1.2163e-08\n",
      "Epoch 84/5000\n",
      "63/63 [==============================] - 0s 6ms/step - loss: 1.9407e-08\n",
      "Epoch 85/5000\n",
      "63/63 [==============================] - 0s 6ms/step - loss: 1.6394e-08\n",
      "Epoch 86/5000\n",
      "63/63 [==============================] - 0s 6ms/step - loss: 1.1902e-08\n",
      "Epoch 87/5000\n",
      "63/63 [==============================] - 0s 5ms/step - loss: 1.0519e-08\n",
      "Epoch 88/5000\n",
      "63/63 [==============================] - 0s 6ms/step - loss: 1.8656e-08\n",
      "Epoch 89/5000\n",
      "63/63 [==============================] - 0s 6ms/step - loss: 1.0634e-08\n",
      "Epoch 90/5000\n",
      "63/63 [==============================] - 0s 6ms/step - loss: 1.8144e-08\n",
      "Epoch 91/5000\n",
      "63/63 [==============================] - 0s 6ms/step - loss: 1.4156e-08\n",
      "Epoch 92/5000\n",
      "63/63 [==============================] - 0s 6ms/step - loss: 8.2509e-09\n",
      "Epoch 93/5000\n",
      "63/63 [==============================] - 0s 6ms/step - loss: 1.3105e-08\n",
      "Epoch 94/5000\n",
      "63/63 [==============================] - 0s 6ms/step - loss: 9.4284e-09\n",
      "Epoch 95/5000\n",
      "63/63 [==============================] - 0s 6ms/step - loss: 7.0255e-09\n",
      "Epoch 96/5000\n",
      "63/63 [==============================] - 0s 6ms/step - loss: 9.1232e-09\n",
      "Epoch 97/5000\n",
      "63/63 [==============================] - 0s 6ms/step - loss: 6.5713e-09\n",
      "Epoch 98/5000\n",
      "63/63 [==============================] - 0s 6ms/step - loss: 1.0431e-08\n",
      "Epoch 99/5000\n",
      "63/63 [==============================] - 0s 6ms/step - loss: 8.0718e-09\n",
      "Epoch 100/5000\n",
      "63/63 [==============================] - 0s 5ms/step - loss: 1.3672e-08\n",
      "Epoch 101/5000\n",
      "63/63 [==============================] - 0s 6ms/step - loss: 2.9996e-08\n",
      "Epoch 102/5000\n",
      "63/63 [==============================] - 0s 6ms/step - loss: 6.9826e-08\n"
     ]
    }
   ],
   "source": [
    "model = create_model(30000, 1, 0.0001)\n",
    "ist = model.fit(X_train_mert, y_train_mert[1], epochs=5000, batch_size=128, verbose=1, callbacks=[earlyStop])"
   ]
  },
  {
   "cell_type": "code",
   "execution_count": 151,
   "id": "02385d6c",
   "metadata": {},
   "outputs": [
    {
     "data": {
      "image/png": "[encoded data removed]",
      "text/plain": [
       "<Figure size 576x396 with 1 Axes>"
      ]
     },
     "metadata": {},
     "output_type": "display_data"
    }
   ],
   "source": [
    "plt.plot(hist.history['loss'])\n",
    "plt.yscale('log')"
   ]
  },
  {
   "cell_type": "code",
   "execution_count": 65,
   "id": "8083b61e",
   "metadata": {},
   "outputs": [
    {
     "name": "stdout",
     "output_type": "stream",
     "text": [
      "63/63 [==============================] - 0s 2ms/step - loss: 5.4685e-08\n"
     ]
    },
    {
     "data": {
      "text/plain": [
       "5.4684953454398055e-08"
      ]
     },
     "execution_count": 65,
     "metadata": {},
     "output_type": "execute_result"
    }
   ],
   "source": [
    "model.evaluate(X_test_mert, y_test_mert[1])"
   ]
  },
  {
   "cell_type": "code",
   "execution_count": null,
   "id": "6dcfe832",
   "metadata": {},
   "outputs": [],
   "source": []
  }
 ],
 "metadata": {
  "kernelspec": {
   "display_name": "Python 3 (ipykernel)",
   "language": "python",
   "name": "python3"
  },
  "language_info": {
   "codemirror_mode": {
    "name": "ipython",
    "version": 3
   },
   "file_extension": ".py",
   "mimetype": "text/x-python",
   "name": "python",
   "nbconvert_exporter": "python",
   "pygments_lexer": "ipython3",
   "version": "3.8.12"
  }
 },
 "nbformat": 4,
 "nbformat_minor": 5
}
